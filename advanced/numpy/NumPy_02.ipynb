{
  "nbformat": 4,
  "nbformat_minor": 0,
  "metadata": {
    "colab": {
      "provenance": []
    },
    "kernelspec": {
      "name": "python3",
      "display_name": "Python 3"
    },
    "language_info": {
      "name": "python"
    }
  },
  "cells": [
    {
      "cell_type": "code",
      "execution_count": 3,
      "metadata": {
        "id": "u0RnvxyOGNbn"
      },
      "outputs": [],
      "source": [
        "import numpy as np"
      ]
    },
    {
      "cell_type": "code",
      "source": [
        "# 1D Array\n",
        "a = np.array([1, 2, 3])\n",
        "print(\"1D Array:\", a)"
      ],
      "metadata": {
        "colab": {
          "base_uri": "https://localhost:8080/"
        },
        "id": "3FuxHIcgGmKe",
        "outputId": "9124a746-e3d8-44af-b7b7-c682ccdc640e"
      },
      "execution_count": 4,
      "outputs": [
        {
          "output_type": "stream",
          "name": "stdout",
          "text": [
            "1D Array: [1 2 3]\n"
          ]
        }
      ]
    },
    {
      "cell_type": "code",
      "source": [
        "# 2D Array\n",
        "b = np.array([[1, 2, 3], [4, 5, 6]])\n",
        "print(\"2D Array:\\n\", b)"
      ],
      "metadata": {
        "colab": {
          "base_uri": "https://localhost:8080/"
        },
        "id": "fU-ZvYUELlMN",
        "outputId": "b45a07e8-a990-4b4a-808a-8557b78e7da3"
      },
      "execution_count": 5,
      "outputs": [
        {
          "output_type": "stream",
          "name": "stdout",
          "text": [
            "2D Array:\n",
            " [[1 2 3]\n",
            " [4 5 6]]\n"
          ]
        }
      ]
    },
    {
      "cell_type": "code",
      "source": [
        "# Zeros, Ones, Empty, Full\n",
        "print(\"Zeros:\\n\", np.zeros((2, 3)))\n",
        "print(\"Ones:\\n\", np.ones((2, 3)))\n",
        "print(\"Empty:\\n\", np.empty((2, 2)))\n",
        "print(\"Full:\\n\", np.full((2, 2), 7))"
      ],
      "metadata": {
        "colab": {
          "base_uri": "https://localhost:8080/"
        },
        "id": "4PbD-WbaLnRs",
        "outputId": "c9dc25e4-f1aa-47ed-9995-2e263d37b608"
      },
      "execution_count": 6,
      "outputs": [
        {
          "output_type": "stream",
          "name": "stdout",
          "text": [
            "Zeros:\n",
            " [[0. 0. 0.]\n",
            " [0. 0. 0.]]\n",
            "Ones:\n",
            " [[1. 1. 1.]\n",
            " [1. 1. 1.]]\n",
            "Empty:\n",
            " [[2.75678135e-315 0.00000000e+000]\n",
            " [5.88193383e-062 1.93410091e-076]]\n",
            "Full:\n",
            " [[7 7]\n",
            " [7 7]]\n"
          ]
        }
      ]
    },
    {
      "cell_type": "code",
      "source": [
        "# arange, linspace\n",
        "print(\"arange(0, 10, 2):\", np.arange(0, 10, 2))\n",
        "print(\"linspace(0, 1, 5):\", np.linspace(0, 1, 5))"
      ],
      "metadata": {
        "colab": {
          "base_uri": "https://localhost:8080/"
        },
        "id": "8HwO8V8_Lpj9",
        "outputId": "aefd961a-fda3-4ec0-cd31-48036b938b59"
      },
      "execution_count": 7,
      "outputs": [
        {
          "output_type": "stream",
          "name": "stdout",
          "text": [
            "arange(0, 10, 2): [0 2 4 6 8]\n",
            "linspace(0, 1, 5): [0.   0.25 0.5  0.75 1.  ]\n"
          ]
        }
      ]
    },
    {
      "cell_type": "code",
      "source": [
        "# Identity and eye\n",
        "print(\"Identity Matrix:\\n\", np.identity(3))\n",
        "print(\"Eye (k=1):\\n\", np.eye(3, k=1))"
      ],
      "metadata": {
        "colab": {
          "base_uri": "https://localhost:8080/"
        },
        "id": "VaLBe2FVLrKV",
        "outputId": "df2eaa3d-ea04-4295-dffd-476e0487bfd1"
      },
      "execution_count": 8,
      "outputs": [
        {
          "output_type": "stream",
          "name": "stdout",
          "text": [
            "Identity Matrix:\n",
            " [[1. 0. 0.]\n",
            " [0. 1. 0.]\n",
            " [0. 0. 1.]]\n",
            "Eye (k=1):\n",
            " [[0. 1. 0.]\n",
            " [0. 0. 1.]\n",
            " [0. 0. 0.]]\n"
          ]
        }
      ]
    },
    {
      "cell_type": "markdown",
      "source": [
        "# **Indexing, Slicing, and Shape**"
      ],
      "metadata": {
        "id": "fUUAvD_aLtqk"
      }
    },
    {
      "cell_type": "code",
      "source": [
        "x = np.array([[10, 20, 30], [40, 50, 60]])\n",
        "print(\"Original:\\n\", x)\n",
        "print(\"Element x[1,2]:\", x[1, 2])\n",
        "print(\"First row:\", x[0])\n",
        "print(\"Second column:\", x[:, 1])\n",
        "print(\"Sub-array:\\n\", x[:, 1:3])"
      ],
      "metadata": {
        "colab": {
          "base_uri": "https://localhost:8080/"
        },
        "id": "uZoMFaccLu1m",
        "outputId": "353b3ee6-6b17-4df9-8e1f-1862d7c9d6ed"
      },
      "execution_count": 9,
      "outputs": [
        {
          "output_type": "stream",
          "name": "stdout",
          "text": [
            "Original:\n",
            " [[10 20 30]\n",
            " [40 50 60]]\n",
            "Element x[1,2]: 60\n",
            "First row: [10 20 30]\n",
            "Second column: [20 50]\n",
            "Sub-array:\n",
            " [[20 30]\n",
            " [50 60]]\n"
          ]
        }
      ]
    },
    {
      "cell_type": "code",
      "source": [
        "# Shape and Reshape\n",
        "print(\"Shape:\", x.shape)\n",
        "reshaped = x.reshape(3, 2)\n",
        "print(\"Reshaped (3x2):\\n\", reshaped)\n",
        "\n",
        "# Flatten\n",
        "print(\"Flattened:\", x.flatten())\n",
        "\n",
        "# Transpose\n",
        "print(\"Transpose:\\n\", x.T)"
      ],
      "metadata": {
        "colab": {
          "base_uri": "https://localhost:8080/"
        },
        "id": "O6sOBrYzLzrV",
        "outputId": "07a64855-1342-44d2-e2fb-48a2df147fa4"
      },
      "execution_count": 10,
      "outputs": [
        {
          "output_type": "stream",
          "name": "stdout",
          "text": [
            "Shape: (2, 3)\n",
            "Reshaped (3x2):\n",
            " [[10 20]\n",
            " [30 40]\n",
            " [50 60]]\n",
            "Flattened: [10 20 30 40 50 60]\n",
            "Transpose:\n",
            " [[10 40]\n",
            " [20 50]\n",
            " [30 60]]\n"
          ]
        }
      ]
    },
    {
      "cell_type": "markdown",
      "source": [
        "# **Mathematical and Statistical Operations**"
      ],
      "metadata": {
        "id": "pKKqGW1zL52d"
      }
    },
    {
      "cell_type": "code",
      "source": [
        "print(\"=== Mathematical Operations ===\")\n",
        "\n",
        "a = np.array([1, 2, 3])\n",
        "b = np.array([4, 5, 6])\n",
        "\n",
        "print(\"Addition:\", a + b)\n",
        "print(\"Subtraction:\", a - b)\n",
        "print(\"Multiplication:\", a * b)\n",
        "print(\"Division:\", a / b)\n",
        "print(\"Exponent:\", a ** 2)\n",
        "\n",
        "print(\"Sum:\", np.sum(a))\n",
        "print(\"Mean:\", np.mean(b))\n",
        "print(\"Median:\", np.median(b))\n",
        "print(\"Standard Deviation:\", np.std(b))\n",
        "print(\"Variance:\", np.var(b))\n"
      ],
      "metadata": {
        "colab": {
          "base_uri": "https://localhost:8080/"
        },
        "id": "MalN4gWTL79d",
        "outputId": "dcb840b3-d309-44ed-9f82-42f1fec36206"
      },
      "execution_count": 11,
      "outputs": [
        {
          "output_type": "stream",
          "name": "stdout",
          "text": [
            "=== Mathematical Operations ===\n",
            "Addition: [5 7 9]\n",
            "Subtraction: [-3 -3 -3]\n",
            "Multiplication: [ 4 10 18]\n",
            "Division: [0.25 0.4  0.5 ]\n",
            "Exponent: [1 4 9]\n",
            "Sum: 6\n",
            "Mean: 5.0\n",
            "Median: 5.0\n",
            "Standard Deviation: 0.816496580927726\n",
            "Variance: 0.6666666666666666\n"
          ]
        }
      ]
    },
    {
      "cell_type": "markdown",
      "source": [
        "# Boolean Masking and **Comparison**"
      ],
      "metadata": {
        "id": "c_p5YzWgL_jc"
      }
    },
    {
      "cell_type": "code",
      "source": [
        "print(\"=== Boolean Masking ===\")\n",
        "\n",
        "data = np.array([10, 20, 30, 40])\n",
        "mask = data > 25\n",
        "print(\"Mask:\", mask)\n",
        "print(\"Filtered:\", data[mask])\n"
      ],
      "metadata": {
        "colab": {
          "base_uri": "https://localhost:8080/"
        },
        "id": "igtxGOanMBlc",
        "outputId": "f1b0da98-f577-48c1-ea83-1dfd3d77c0cf"
      },
      "execution_count": 12,
      "outputs": [
        {
          "output_type": "stream",
          "name": "stdout",
          "text": [
            "=== Boolean Masking ===\n",
            "Mask: [False False  True  True]\n",
            "Filtered: [30 40]\n"
          ]
        }
      ]
    },
    {
      "cell_type": "markdown",
      "source": [
        "# **Broadcasting**"
      ],
      "metadata": {
        "id": "4VtrD2vCMEgt"
      }
    },
    {
      "cell_type": "code",
      "source": [
        "print(\"=== Broadcasting ===\")\n",
        "\n",
        "x = np.array([[1, 2, 3], [4, 5, 6]])\n",
        "y = np.array([1, 0, 1])\n",
        "print(\"Broadcast Addition:\\n\", x + y)\n"
      ],
      "metadata": {
        "colab": {
          "base_uri": "https://localhost:8080/"
        },
        "id": "7yEE-4qKMF0f",
        "outputId": "e93d980e-d492-48b8-af26-71411475300c"
      },
      "execution_count": 13,
      "outputs": [
        {
          "output_type": "stream",
          "name": "stdout",
          "text": [
            "=== Broadcasting ===\n",
            "Broadcast Addition:\n",
            " [[2 2 4]\n",
            " [5 5 7]]\n"
          ]
        }
      ]
    },
    {
      "cell_type": "markdown",
      "source": [
        "# **Random Numbers**"
      ],
      "metadata": {
        "id": "yWKXEUcNMNHc"
      }
    },
    {
      "cell_type": "code",
      "source": [
        "print(\"=== Random Generation ===\")\n",
        "\n",
        "np.random.seed(0)\n",
        "print(\"Random Integers:\\n\", np.random.randint(1, 10, (2, 3)))\n",
        "print(\"Random Floats:\\n\", np.random.rand(2, 2))\n",
        "print(\"Normal Distribution:\\n\", np.random.randn(2, 2))\n"
      ],
      "metadata": {
        "colab": {
          "base_uri": "https://localhost:8080/"
        },
        "id": "wEQ9ard8MO1k",
        "outputId": "4d83aab5-82a2-4443-f310-3260bb52b226"
      },
      "execution_count": 14,
      "outputs": [
        {
          "output_type": "stream",
          "name": "stdout",
          "text": [
            "=== Random Generation ===\n",
            "Random Integers:\n",
            " [[6 1 4]\n",
            " [4 8 4]]\n",
            "Random Floats:\n",
            " [[0.64589411 0.43758721]\n",
            " [0.891773   0.96366276]]\n",
            "Normal Distribution:\n",
            " [[ 1.26611853 -0.50587654]\n",
            " [ 2.54520078  1.08081191]]\n"
          ]
        }
      ]
    },
    {
      "cell_type": "markdown",
      "source": [
        "# **Linear Algebra**"
      ],
      "metadata": {
        "id": "OjzHZPBvMRJ0"
      }
    },
    {
      "cell_type": "code",
      "source": [
        "print(\"=== Linear Algebra ===\")\n",
        "\n",
        "m1 = np.array([[1, 2], [3, 4]])\n",
        "m2 = np.array([[5, 6], [7, 8]])\n",
        "\n",
        "print(\"Matrix Multiplication:\\n\", np.dot(m1, m2))\n",
        "print(\"Determinant:\", np.linalg.det(m1))\n",
        "print(\"Inverse:\\n\", np.linalg.inv(m1))\n",
        "print(\"Eigenvalues:\", np.linalg.eigvals(m1))\n"
      ],
      "metadata": {
        "colab": {
          "base_uri": "https://localhost:8080/"
        },
        "id": "3Z7ILwsWMS3l",
        "outputId": "69cad638-e280-4f56-f72e-39695e6a27c7"
      },
      "execution_count": 15,
      "outputs": [
        {
          "output_type": "stream",
          "name": "stdout",
          "text": [
            "=== Linear Algebra ===\n",
            "Matrix Multiplication:\n",
            " [[19 22]\n",
            " [43 50]]\n",
            "Determinant: -2.0000000000000004\n",
            "Inverse:\n",
            " [[-2.   1. ]\n",
            " [ 1.5 -0.5]]\n",
            "Eigenvalues: [-0.37228132  5.37228132]\n"
          ]
        }
      ]
    },
    {
      "cell_type": "markdown",
      "source": [
        "# **Useful Functions**"
      ],
      "metadata": {
        "id": "3MJqp4AFMVMF"
      }
    },
    {
      "cell_type": "code",
      "source": [
        "print(\"=== Useful NumPy Functions ===\")\n",
        "\n",
        "a = np.array([1, 2, 3])\n",
        "print(\"cumsum:\", np.cumsum(a))\n",
        "print(\"diff:\", np.diff(a))\n",
        "print(\"clip [min=1, max=2]:\", np.clip(a, 1, 2))\n",
        "print(\"Unique values:\", np.unique([1, 2, 2, 3, 1]))\n"
      ],
      "metadata": {
        "colab": {
          "base_uri": "https://localhost:8080/"
        },
        "id": "tidXnCpvMW_F",
        "outputId": "aac25bdb-84ac-49d9-f512-d19a4cacc42c"
      },
      "execution_count": 16,
      "outputs": [
        {
          "output_type": "stream",
          "name": "stdout",
          "text": [
            "=== Useful NumPy Functions ===\n",
            "cumsum: [1 3 6]\n",
            "diff: [1 1]\n",
            "clip [min=1, max=2]: [1 2 2]\n",
            "Unique values: [1 2 3]\n"
          ]
        }
      ]
    },
    {
      "cell_type": "markdown",
      "source": [
        "# Saving and **Loading**"
      ],
      "metadata": {
        "id": "WY200oYgMZXN"
      }
    },
    {
      "cell_type": "code",
      "source": [
        "print(\"=== Save and Load ===\")\n",
        "\n",
        "arr = np.array([1, 2, 3])\n",
        "np.save('my_array.npy', arr)\n",
        "loaded = np.load('my_array.npy')\n",
        "print(\"Loaded Array:\", loaded)\n"
      ],
      "metadata": {
        "colab": {
          "base_uri": "https://localhost:8080/"
        },
        "id": "jG3HrXUsMawM",
        "outputId": "c4ade9bf-b81a-4024-c348-f3e5be0f66f4"
      },
      "execution_count": 17,
      "outputs": [
        {
          "output_type": "stream",
          "name": "stdout",
          "text": [
            "=== Save and Load ===\n",
            "Loaded Array: [1 2 3]\n"
          ]
        }
      ]
    }
  ]
}