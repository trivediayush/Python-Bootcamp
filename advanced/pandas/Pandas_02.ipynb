{
  "nbformat": 4,
  "nbformat_minor": 0,
  "metadata": {
    "colab": {
      "provenance": []
    },
    "kernelspec": {
      "name": "python3",
      "display_name": "Python 3"
    },
    "language_info": {
      "name": "python"
    }
  },
  "cells": [
    {
      "cell_type": "code",
      "execution_count": 1,
      "metadata": {
        "id": "jc6_QVAQNnTT"
      },
      "outputs": [],
      "source": [
        "import pandas as pd"
      ]
    },
    {
      "cell_type": "code",
      "source": [
        "import pandas as pd\n",
        "import numpy as np\n",
        "\n",
        "print(\"=== Creating Series and DataFrames ===\")\n",
        "\n",
        "# Creating a Series\n",
        "s = pd.Series([10, 20, 30, 40], index=['a', 'b', 'c', 'd'])\n",
        "print(\"Series:\\n\", s)\n",
        "\n",
        "# Creating a DataFrame from dictionary\n",
        "data = {\n",
        "    'Name': ['Alice', 'Bob', 'Charlie'],\n",
        "    'Age': [25, 30, 35],\n",
        "    'City': ['Delhi', 'Mumbai', 'Bangalore']\n",
        "}\n",
        "df = pd.DataFrame(data)\n",
        "print(\"\\nDataFrame:\\n\", df)\n",
        "\n",
        "# Creating a DataFrame from NumPy array\n",
        "arr = np.array([[1, 2], [3, 4], [5, 6]])\n",
        "df2 = pd.DataFrame(arr, columns=['X', 'Y'])\n",
        "print(\"\\nDataFrame from array:\\n\", df2)\n"
      ],
      "metadata": {
        "colab": {
          "base_uri": "https://localhost:8080/"
        },
        "id": "hPU8lT3JNu_d",
        "outputId": "3af5ba24-f842-4c24-9a70-9fd16763f95b"
      },
      "execution_count": 2,
      "outputs": [
        {
          "output_type": "stream",
          "name": "stdout",
          "text": [
            "=== Creating Series and DataFrames ===\n",
            "Series:\n",
            " a    10\n",
            "b    20\n",
            "c    30\n",
            "d    40\n",
            "dtype: int64\n",
            "\n",
            "DataFrame:\n",
            "       Name  Age       City\n",
            "0    Alice   25      Delhi\n",
            "1      Bob   30     Mumbai\n",
            "2  Charlie   35  Bangalore\n",
            "\n",
            "DataFrame from array:\n",
            "    X  Y\n",
            "0  1  2\n",
            "1  3  4\n",
            "2  5  6\n"
          ]
        }
      ]
    },
    {
      "cell_type": "markdown",
      "source": [
        "# DataFrame **Basics**"
      ],
      "metadata": {
        "id": "AfSw98KENxz-"
      }
    },
    {
      "cell_type": "code",
      "source": [
        "print(\"=== DataFrame Basic Info ===\")\n",
        "\n",
        "print(\"Shape:\", df.shape)\n",
        "print(\"Columns:\", df.columns)\n",
        "print(\"Index:\", df.index)\n",
        "print(\"Data Types:\\n\", df.dtypes)\n",
        "print(\"Head:\\n\", df.head(2))\n",
        "print(\"Tail:\\n\", df.tail(2))\n",
        "print(\"Describe:\\n\", df.describe())\n"
      ],
      "metadata": {
        "colab": {
          "base_uri": "https://localhost:8080/"
        },
        "id": "t8Ws9hX7NzHk",
        "outputId": "c2bec5d1-a7cd-4fd1-cd12-b201bb3d125e"
      },
      "execution_count": 3,
      "outputs": [
        {
          "output_type": "stream",
          "name": "stdout",
          "text": [
            "=== DataFrame Basic Info ===\n",
            "Shape: (3, 3)\n",
            "Columns: Index(['Name', 'Age', 'City'], dtype='object')\n",
            "Index: RangeIndex(start=0, stop=3, step=1)\n",
            "Data Types:\n",
            " Name    object\n",
            "Age      int64\n",
            "City    object\n",
            "dtype: object\n",
            "Head:\n",
            "     Name  Age    City\n",
            "0  Alice   25   Delhi\n",
            "1    Bob   30  Mumbai\n",
            "Tail:\n",
            "       Name  Age       City\n",
            "1      Bob   30     Mumbai\n",
            "2  Charlie   35  Bangalore\n",
            "Describe:\n",
            "         Age\n",
            "count   3.0\n",
            "mean   30.0\n",
            "std     5.0\n",
            "min    25.0\n",
            "25%    27.5\n",
            "50%    30.0\n",
            "75%    32.5\n",
            "max    35.0\n"
          ]
        }
      ]
    },
    {
      "cell_type": "markdown",
      "source": [
        "# **Indexing, Selecting, Filtering**"
      ],
      "metadata": {
        "id": "61Knq8eHOCgE"
      }
    },
    {
      "cell_type": "code",
      "source": [
        "print(\"=== Indexing and Filtering ===\")\n",
        "\n",
        "# Column access\n",
        "print(\"Name column:\\n\", df['Name'])\n",
        "\n",
        "# Row access\n",
        "print(\"First row:\\n\", df.loc[0])\n",
        "print(\"First row (iloc):\\n\", df.iloc[0])\n",
        "\n",
        "# Boolean filtering\n",
        "print(\"Age > 25:\\n\", df[df['Age'] > 25])\n",
        "\n",
        "# Conditional & combined filters\n",
        "print(\"Age > 25 and City is Mumbai:\\n\", df[(df['Age'] > 25) & (df['City'] == 'Mumbai')])\n"
      ],
      "metadata": {
        "colab": {
          "base_uri": "https://localhost:8080/"
        },
        "id": "bZYLVt2yODps",
        "outputId": "694165e6-1fc6-4beb-fad2-489d9bdb6557"
      },
      "execution_count": 4,
      "outputs": [
        {
          "output_type": "stream",
          "name": "stdout",
          "text": [
            "=== Indexing and Filtering ===\n",
            "Name column:\n",
            " 0      Alice\n",
            "1        Bob\n",
            "2    Charlie\n",
            "Name: Name, dtype: object\n",
            "First row:\n",
            " Name    Alice\n",
            "Age        25\n",
            "City    Delhi\n",
            "Name: 0, dtype: object\n",
            "First row (iloc):\n",
            " Name    Alice\n",
            "Age        25\n",
            "City    Delhi\n",
            "Name: 0, dtype: object\n",
            "Age > 25:\n",
            "       Name  Age       City\n",
            "1      Bob   30     Mumbai\n",
            "2  Charlie   35  Bangalore\n",
            "Age > 25 and City is Mumbai:\n",
            "   Name  Age    City\n",
            "1  Bob   30  Mumbai\n"
          ]
        }
      ]
    },
    {
      "cell_type": "markdown",
      "source": [
        "# **Modifying Data**"
      ],
      "metadata": {
        "id": "z3jwmvqJOGz8"
      }
    },
    {
      "cell_type": "code",
      "source": [
        "print(\"=== Modifying Data ===\")\n",
        "\n",
        "df['Salary'] = [50000, 60000, 70000]\n",
        "print(\"After adding Salary:\\n\", df)\n",
        "\n",
        "df.at[1, 'Age'] = 31\n",
        "print(\"After modifying Age of index 1:\\n\", df)\n",
        "\n",
        "df.drop('City', axis=1, inplace=True)\n",
        "print(\"After dropping City:\\n\", df)\n",
        "\n",
        "df.rename(columns={'Name': 'Full Name'}, inplace=True)\n",
        "print(\"After renaming column:\\n\", df)\n"
      ],
      "metadata": {
        "colab": {
          "base_uri": "https://localhost:8080/"
        },
        "id": "fDJH9A70OIHV",
        "outputId": "290fbedc-3c3d-41d5-d807-4a5f6fb2cb01"
      },
      "execution_count": 5,
      "outputs": [
        {
          "output_type": "stream",
          "name": "stdout",
          "text": [
            "=== Modifying Data ===\n",
            "After adding Salary:\n",
            "       Name  Age       City  Salary\n",
            "0    Alice   25      Delhi   50000\n",
            "1      Bob   30     Mumbai   60000\n",
            "2  Charlie   35  Bangalore   70000\n",
            "After modifying Age of index 1:\n",
            "       Name  Age       City  Salary\n",
            "0    Alice   25      Delhi   50000\n",
            "1      Bob   31     Mumbai   60000\n",
            "2  Charlie   35  Bangalore   70000\n",
            "After dropping City:\n",
            "       Name  Age  Salary\n",
            "0    Alice   25   50000\n",
            "1      Bob   31   60000\n",
            "2  Charlie   35   70000\n",
            "After renaming column:\n",
            "   Full Name  Age  Salary\n",
            "0     Alice   25   50000\n",
            "1       Bob   31   60000\n",
            "2   Charlie   35   70000\n"
          ]
        }
      ]
    },
    {
      "cell_type": "markdown",
      "source": [
        "# **Aggregation and Statistics**"
      ],
      "metadata": {
        "id": "yjm8UMBxOK7L"
      }
    },
    {
      "cell_type": "code",
      "source": [
        "print(\"=== Aggregation and Statistics ===\")\n",
        "\n",
        "print(\"Mean Age:\", df['Age'].mean())\n",
        "print(\"Max Salary:\", df['Salary'].max())\n",
        "print(\"Value Counts (Age):\\n\", df['Age'].value_counts())\n",
        "print(\"Correlation Matrix:\\n\", df.corr(numeric_only=True))\n"
      ],
      "metadata": {
        "colab": {
          "base_uri": "https://localhost:8080/"
        },
        "id": "N6han6MOOM2k",
        "outputId": "20bef769-8e01-4171-9075-dfa999f25644"
      },
      "execution_count": 6,
      "outputs": [
        {
          "output_type": "stream",
          "name": "stdout",
          "text": [
            "=== Aggregation and Statistics ===\n",
            "Mean Age: 30.333333333333332\n",
            "Max Salary: 70000\n",
            "Value Counts (Age):\n",
            " Age\n",
            "25    1\n",
            "31    1\n",
            "35    1\n",
            "Name: count, dtype: int64\n",
            "Correlation Matrix:\n",
            "              Age    Salary\n",
            "Age     1.000000  0.993399\n",
            "Salary  0.993399  1.000000\n"
          ]
        }
      ]
    },
    {
      "cell_type": "markdown",
      "source": [
        "# **GroupBy Operations**"
      ],
      "metadata": {
        "id": "4Ms3yuJaOR3c"
      }
    },
    {
      "cell_type": "code",
      "source": [
        "print(\"=== GroupBy Example ===\")\n",
        "\n",
        "# Add new column for grouping\n",
        "df['Dept'] = ['HR', 'IT', 'HR']\n",
        "\n",
        "grouped = df.groupby('Dept')\n",
        "print(\"GroupBy mean:\\n\", grouped.mean(numeric_only=True))\n",
        "print(\"GroupBy count:\\n\", grouped.count())\n"
      ],
      "metadata": {
        "colab": {
          "base_uri": "https://localhost:8080/"
        },
        "id": "kJmzzsGCOSqE",
        "outputId": "e288413b-da51-4801-f2b7-d24c617d1d55"
      },
      "execution_count": 7,
      "outputs": [
        {
          "output_type": "stream",
          "name": "stdout",
          "text": [
            "=== GroupBy Example ===\n",
            "GroupBy mean:\n",
            "        Age   Salary\n",
            "Dept               \n",
            "HR    30.0  60000.0\n",
            "IT    31.0  60000.0\n",
            "GroupBy count:\n",
            "       Full Name  Age  Salary\n",
            "Dept                        \n",
            "HR            2    2       2\n",
            "IT            1    1       1\n"
          ]
        }
      ]
    },
    {
      "cell_type": "markdown",
      "source": [
        "# ***Missing Data Handling***"
      ],
      "metadata": {
        "id": "QG1WCizdOVdk"
      }
    },
    {
      "cell_type": "code",
      "source": [
        "print(\"=== Missing Data ===\")\n",
        "\n",
        "df_missing = pd.DataFrame({\n",
        "    'A': [1, 2, np.nan],\n",
        "    'B': [5, np.nan, np.nan],\n",
        "    'C': [10, 20, 30]\n",
        "})\n",
        "print(\"With missing values:\\n\", df_missing)\n",
        "\n",
        "# Fill missing values\n",
        "print(\"Fill NaN with 0:\\n\", df_missing.fillna(0))\n",
        "\n",
        "# Drop rows with any NaN\n",
        "print(\"Drop rows with NaN:\\n\", df_missing.dropna())\n",
        "\n",
        "# Check for nulls\n",
        "print(\"Isnull:\\n\", df_missing.isnull())\n"
      ],
      "metadata": {
        "colab": {
          "base_uri": "https://localhost:8080/"
        },
        "id": "Rg4aidspOXGk",
        "outputId": "c6d0b283-32ca-4201-ecdf-6e031f1e6354"
      },
      "execution_count": 8,
      "outputs": [
        {
          "output_type": "stream",
          "name": "stdout",
          "text": [
            "=== Missing Data ===\n",
            "With missing values:\n",
            "      A    B   C\n",
            "0  1.0  5.0  10\n",
            "1  2.0  NaN  20\n",
            "2  NaN  NaN  30\n",
            "Fill NaN with 0:\n",
            "      A    B   C\n",
            "0  1.0  5.0  10\n",
            "1  2.0  0.0  20\n",
            "2  0.0  0.0  30\n",
            "Drop rows with NaN:\n",
            "      A    B   C\n",
            "0  1.0  5.0  10\n",
            "Isnull:\n",
            "        A      B      C\n",
            "0  False  False  False\n",
            "1  False   True  False\n",
            "2   True   True  False\n"
          ]
        }
      ]
    },
    {
      "cell_type": "markdown",
      "source": [
        "# **Sorting and Duplicates**"
      ],
      "metadata": {
        "id": "Y3OPwf2MOZQU"
      }
    },
    {
      "cell_type": "code",
      "source": [
        "print(\"=== Sorting and Duplicates ===\")\n",
        "\n",
        "print(\"Sorted by Age:\\n\", df.sort_values('Age'))\n",
        "\n",
        "# Duplicate example\n",
        "df_dup = pd.DataFrame({'A': [1, 2, 2, 3], 'B': [4, 5, 5, 6]})\n",
        "print(\"Duplicates:\\n\", df_dup[df_dup.duplicated()])\n",
        "print(\"After dropping duplicates:\\n\", df_dup.drop_duplicates())\n"
      ],
      "metadata": {
        "colab": {
          "base_uri": "https://localhost:8080/"
        },
        "id": "Er-aKW8dOaKc",
        "outputId": "3ea2a359-13ad-4d1a-f33f-b8fd3c6078d3"
      },
      "execution_count": 9,
      "outputs": [
        {
          "output_type": "stream",
          "name": "stdout",
          "text": [
            "=== Sorting and Duplicates ===\n",
            "Sorted by Age:\n",
            "   Full Name  Age  Salary Dept\n",
            "0     Alice   25   50000   HR\n",
            "1       Bob   31   60000   IT\n",
            "2   Charlie   35   70000   HR\n",
            "Duplicates:\n",
            "    A  B\n",
            "2  2  5\n",
            "After dropping duplicates:\n",
            "    A  B\n",
            "0  1  4\n",
            "1  2  5\n",
            "3  3  6\n"
          ]
        }
      ]
    },
    {
      "cell_type": "markdown",
      "source": [
        "# **Merging, Joining, Concatenating**"
      ],
      "metadata": {
        "id": "bS1tlxSVOc1k"
      }
    },
    {
      "cell_type": "code",
      "source": [
        "print(\"=== Merging and Joining ===\")\n",
        "\n",
        "left = pd.DataFrame({'ID': [1, 2], 'Name': ['A', 'B']})\n",
        "right = pd.DataFrame({'ID': [1, 2], 'Score': [85, 90]})\n",
        "\n",
        "merged = pd.merge(left, right, on='ID')\n",
        "print(\"Merged DataFrame:\\n\", merged)\n",
        "\n",
        "df1 = pd.DataFrame({'A': [1, 2]})\n",
        "df2 = pd.DataFrame({'A': [3, 4]})\n",
        "concat_df = pd.concat([df1, df2])\n",
        "print(\"Concatenated:\\n\", concat_df)\n"
      ],
      "metadata": {
        "colab": {
          "base_uri": "https://localhost:8080/"
        },
        "id": "aacWZvCiOdzT",
        "outputId": "0f4eba88-71da-4f06-c466-2ce118ee2ff7"
      },
      "execution_count": 10,
      "outputs": [
        {
          "output_type": "stream",
          "name": "stdout",
          "text": [
            "=== Merging and Joining ===\n",
            "Merged DataFrame:\n",
            "    ID Name  Score\n",
            "0   1    A     85\n",
            "1   2    B     90\n",
            "Concatenated:\n",
            "    A\n",
            "0  1\n",
            "1  2\n",
            "0  3\n",
            "1  4\n"
          ]
        }
      ]
    },
    {
      "cell_type": "markdown",
      "source": [
        "# **File I/O**"
      ],
      "metadata": {
        "id": "IGVnZLJAOguM"
      }
    },
    {
      "cell_type": "code",
      "source": [
        "print(\"=== File I/O ===\")\n",
        "\n",
        "# Saving and reading (uncomment to execute)\n",
        "# df.to_csv(\"data.csv\", index=False)\n",
        "# loaded_df = pd.read_csv(\"data.csv\")\n",
        "# print(\"Loaded CSV:\\n\", loaded_df)\n"
      ],
      "metadata": {
        "colab": {
          "base_uri": "https://localhost:8080/"
        },
        "id": "gV9Eiwk6Ohh8",
        "outputId": "0755577c-bdce-415f-8e84-a8ace73a444e"
      },
      "execution_count": 11,
      "outputs": [
        {
          "output_type": "stream",
          "name": "stdout",
          "text": [
            "=== File I/O ===\n"
          ]
        }
      ]
    }
  ]
}